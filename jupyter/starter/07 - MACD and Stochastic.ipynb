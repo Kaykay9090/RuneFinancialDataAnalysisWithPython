{
 "cells": [
  {
   "cell_type": "code",
   "execution_count": null,
   "id": "7e72a52c",
   "metadata": {},
   "outputs": [],
   "source": []
  },
  {
   "cell_type": "code",
   "execution_count": null,
   "id": "d56f6d7c",
   "metadata": {},
   "outputs": [],
   "source": []
  },
  {
   "cell_type": "code",
   "execution_count": null,
   "id": "ff403ccf",
   "metadata": {},
   "outputs": [],
   "source": []
  },
  {
   "cell_type": "markdown",
   "metadata": {},
   "source": [
    "### MACD\n",
    "- MACD is a lagging indicator when trading on the crossovers\n",
    "- https://www.investopedia.com/terms/m/macd.asp\n",
    "\n",
    "**Calculation** (12-26-9 MACD (default))\n",
    "- MACD=12-Period EMA − 26-Period EMA\n",
    "- Singal line 9-Perioed EMA of MACD"
   ]
  },
  {
   "cell_type": "code",
   "execution_count": null,
   "id": "f394d928",
   "metadata": {},
   "outputs": [],
   "source": []
  },
  {
   "cell_type": "code",
   "execution_count": null,
   "id": "d680118e",
   "metadata": {},
   "outputs": [],
   "source": []
  },
  {
   "cell_type": "code",
   "execution_count": null,
   "id": "fa195781",
   "metadata": {},
   "outputs": [],
   "source": []
  },
  {
   "cell_type": "markdown",
   "metadata": {},
   "source": [
    "### Stochastic oscillator\n",
    "- Lagging indicator\n",
    "- https://www.investopedia.com/terms/s/stochasticoscillator.asp\n",
    "\n",
    "**Calculations**\n",
    "- 14-high: Maximum of last 14 trading days\n",
    "- 14-low: Minimum of last 14 trading days\n",
    "- %K: (Last close - 14-low)*100 / (14-high - 14-low)\n",
    "- %D: Simple Moving Average of %K"
   ]
  },
  {
   "cell_type": "code",
   "execution_count": null,
   "id": "d56156ed",
   "metadata": {},
   "outputs": [],
   "source": []
  },
  {
   "cell_type": "code",
   "execution_count": null,
   "id": "eadfdd30",
   "metadata": {},
   "outputs": [],
   "source": []
  },
  {
   "cell_type": "code",
   "execution_count": null,
   "id": "5d4ea8ea",
   "metadata": {},
   "outputs": [],
   "source": []
  },
  {
   "cell_type": "code",
   "execution_count": null,
   "id": "454721d4",
   "metadata": {},
   "outputs": [],
   "source": []
  }
 ],
 "metadata": {
  "kernelspec": {
   "display_name": "Python 3",
   "language": "python",
   "name": "python3"
  },
  "language_info": {
   "codemirror_mode": {
    "name": "ipython",
    "version": 3
   },
   "file_extension": ".py",
   "mimetype": "text/x-python",
   "name": "python",
   "nbconvert_exporter": "python",
   "pygments_lexer": "ipython3",
   "version": "3.8.5"
  }
 },
 "nbformat": 4,
 "nbformat_minor": 4
}
