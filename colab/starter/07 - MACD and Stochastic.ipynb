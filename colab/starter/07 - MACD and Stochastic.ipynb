{
 "cells": [
  {
   "cell_type": "code",
   "execution_count": null,
   "id": "02169222",
   "metadata": {},
   "outputs": [],
   "source": []
  },
  {
   "cell_type": "code",
   "execution_count": null,
   "id": "197684d5",
   "metadata": {},
   "outputs": [],
   "source": []
  },
  {
   "cell_type": "code",
   "execution_count": null,
   "id": "eb2a4c8b",
   "metadata": {},
   "outputs": [],
   "source": []
  },
  {
   "cell_type": "markdown",
   "metadata": {},
   "source": [
    "### MACD\n",
    "- MACD is a lagging indicator when trading on the crossovers\n",
    "- https://www.investopedia.com/terms/m/macd.asp\n",
    "\n",
    "**Calculation** (12-26-9 MACD (default))\n",
    "- MACD=12-Period EMA − 26-Period EMA\n",
    "- Singal line 9-Perioed EMA of MACD"
   ]
  },
  {
   "cell_type": "code",
   "execution_count": null,
   "id": "b0d65242",
   "metadata": {},
   "outputs": [],
   "source": []
  },
  {
   "cell_type": "code",
   "execution_count": null,
   "id": "a27be391",
   "metadata": {},
   "outputs": [],
   "source": []
  },
  {
   "cell_type": "code",
   "execution_count": null,
   "id": "92284aa3",
   "metadata": {},
   "outputs": [],
   "source": []
  },
  {
   "cell_type": "markdown",
   "metadata": {},
   "source": [
    "### Stochastic oscillator\n",
    "- Lagging indicator\n",
    "- https://www.investopedia.com/terms/s/stochasticoscillator.asp\n",
    "\n",
    "**Calculations**\n",
    "- 14-high: Maximum of last 14 trading days\n",
    "- 14-low: Minimum of last 14 trading days\n",
    "- %K: (Last close - 14-low)*100 / (14-high - 14-low)\n",
    "- %D: Simple Moving Average of %K"
   ]
  },
  {
   "cell_type": "code",
   "execution_count": null,
   "id": "df4dd78d",
   "metadata": {},
   "outputs": [],
   "source": []
  },
  {
   "cell_type": "code",
   "execution_count": null,
   "id": "425fae84",
   "metadata": {},
   "outputs": [],
   "source": []
  },
  {
   "cell_type": "code",
   "execution_count": null,
   "id": "0056c7eb",
   "metadata": {},
   "outputs": [],
   "source": []
  },
  {
   "cell_type": "code",
   "execution_count": null,
   "id": "3e2c0a08",
   "metadata": {},
   "outputs": [],
   "source": []
  }
 ],
 "metadata": {
  "kernelspec": {
   "display_name": "Python 3",
   "language": "python",
   "name": "python3"
  },
  "language_info": {
   "codemirror_mode": {
    "name": "ipython",
    "version": 3
   },
   "file_extension": ".py",
   "mimetype": "text/x-python",
   "name": "python",
   "nbconvert_exporter": "python",
   "pygments_lexer": "ipython3",
   "version": "3.8.5"
  }
 },
 "nbformat": 4,
 "nbformat_minor": 4
}
